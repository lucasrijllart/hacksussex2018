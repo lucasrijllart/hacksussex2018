{
 "cells": [
  {
   "cell_type": "markdown",
   "metadata": {},
   "source": [
    "# Fun Git stats"
   ]
  },
  {
   "cell_type": "code",
   "execution_count": 4,
   "metadata": {},
   "outputs": [
    {
     "name": "stdout",
     "output_type": "stream",
     "text": [
      "Done!\n"
     ]
    }
   ],
   "source": [
    "import sys\n",
    "!{sys.executable} -m pip install -r requirements.txt -q\n",
    "print(\"Done!\")"
   ]
  },
  {
   "cell_type": "code",
   "execution_count": 6,
   "metadata": {},
   "outputs": [
    {
     "data": {
      "text/plain": [
       "<matplotlib.axes._subplots.AxesSubplot at 0x7f0386e5cbe0>"
      ]
     },
     "execution_count": 6,
     "metadata": {},
     "output_type": "execute_result"
    },
    {
     "data": {
      "image/png": "[encoded data removed]",
      "text/plain": [
       "<Figure size 432x288 with 1 Axes>"
      ]
     },
     "metadata": {
      "needs_background": "light"
     },
     "output_type": "display_data"
    }
   ],
   "source": [
    "import pandas as pd\n",
    "import seaborn as sns\n",
    "from git import Repo\n",
    "\n",
    "repo = Repo(\"~/hackathon/sleep-wake\")\n",
    "\n",
    "commit_list = repo.iter_commits(\"master\")\n",
    "\n",
    "authors = []\n",
    "dates = []\n",
    "\n",
    "for i in commit_list:\n",
    "    authors.append(i.author.name)\n",
    "    dates.append(i.authored_datetime)\n",
    "\n",
    "authors_names = list(set(authors))\n",
    "\n",
    "\n",
    "def set_values(authors,authors_names):\n",
    "    values_over_time = []\n",
    "    values = [0,0,0,0]\n",
    "    for author in authors:\n",
    "        index = authors_names.index(author)\n",
    "        values[index]+=1\n",
    "        values_over_time.append(values.copy())\n",
    "    return values_over_time\n",
    "\n",
    "vals = set_values(authors, authors_names)\n",
    "dates = dates.reverse()\n",
    "df = pd.DataFrame(vals, dates, columns=authors_names)\n",
    "sns.lineplot(data=df, palette=\"tab10\", linewidth=2.5)"
   ]
  },
  {
   "cell_type": "code",
   "execution_count": 7,
   "metadata": {},
   "outputs": [
    {
     "data": {
      "text/plain": [
       "<matplotlib.axes._subplots.AxesSubplot at 0x7f0386d7bb70>"
      ]
     },
     "execution_count": 7,
     "metadata": {},
     "output_type": "execute_result"
    },
    {
     "data": {
      "image/png": "[encoded data removed]",
      "text/plain": [
       "<Figure size 432x288 with 1 Axes>"
      ]
     },
     "metadata": {
      "needs_background": "light"
     },
     "output_type": "display_data"
    }
   ],
   "source": [
    "sns.barplot(x=authors_names, y=vals[-1], palette=\"rocket\")"
   ]
  },
  {
   "cell_type": "code",
   "execution_count": 8,
   "metadata": {
    "scrolled": false
   },
   "outputs": [
    {
     "data": {
      "text/html": [
       "<h1>Shortest commit messages</h1>"
      ],
      "text/plain": [
       "<IPython.core.display.HTML object>"
      ]
     },
     "metadata": {},
     "output_type": "display_data"
    },
    {
     "data": {
      "text/html": [
       "<table>\n",
       "<tbody>\n",
       "<tr><td>Author        </td><td>Commit message  </td><td>Length (chars)</td></tr>\n",
       "<tr><td>Lucas Rijllart</td><td>Added images    </td><td>13            </td></tr>\n",
       "<tr><td>Lucas Rijllart</td><td>Initial commit  </td><td>15            </td></tr>\n",
       "<tr><td>Lucas Rijllart</td><td>Update README.md</td><td>16            </td></tr>\n",
       "<tr><td>Lucas Rijllart</td><td>Create README.md</td><td>16            </td></tr>\n",
       "<tr><td>efkag         </td><td>Fitness function</td><td>17            </td></tr>\n",
       "</tbody>\n",
       "</table>"
      ],
      "text/plain": [
       "<IPython.core.display.HTML object>"
      ]
     },
     "metadata": {},
     "output_type": "display_data"
    },
    {
     "data": {
      "text/html": [
       "<hr><br><h1>Commit Haikus</h1></br><b><center><u>lucasrijllart</u></center></b><p><center style='white-space: pre-line'>New graph of time tak\n",
       "en for online and offline\n",
       "GA * Cycle Put<br>*</center></p><b><center><u>lucasrijllart</u></center></b><p><center style='white-space: pre-line'>Added graph in test_network\n",
       "* Cycle Fixed bug in pass\n",
       "ing of params of train<br>*</center></p><b><center><u>lucasrijllart</u></center></b><p><center style='white-space: pre-line'>New method test_network that\n",
       "gives average MSE * Cy\n",
       "cle New method test_network()<br>*</center></p><b><center><u>lucasrijllart</u></center></b><p><center style='white-space: pre-line'>Small changes to Cycle\n",
       "methods * Init Rearranged\n",
       "variables and removed<br>*</center></p><b><center><u>lucasrijllart</u></center></b><p><center style='white-space: pre-line'>Training of backward\n",
       "smoving random ve\n",
       "hicles * Cycle<br>*</center></p>"
      ],
      "text/plain": [
       "<IPython.core.display.HTML object>"
      ]
     },
     "metadata": {},
     "output_type": "display_data"
    }
   ],
   "source": [
    "import pyphen\n",
    "from IPython.display import HTML, display\n",
    "import tabulate\n",
    "\n",
    "repo = Repo(\"~/hackathon/sleep-wake\")\n",
    "py_phen = pyphen.Pyphen(lang=\"en\")\n",
    "\n",
    "def get_commit(repo_path=\"~/hackathon/sleep-wake\"):\n",
    "    commit_list = repo.iter_commits(\"master\")\n",
    "    data = []\n",
    "    for commit in commit_list:\n",
    "        commit_info = {\n",
    "            \"author\": commit.author,\n",
    "            \"message\": commit.message\n",
    "        }\n",
    "        data.append(commit_info)\n",
    "    return data\n",
    "\n",
    "\n",
    "def extract_line(sentence, remaining_syllables):\n",
    "    line = []\n",
    "    while remaining_syllables > 0:\n",
    "        word = sentence.pop(0)  # get first word\n",
    "        number_of_syllables = len(word.split(\"-\"))  # check number of syllables\n",
    "        remaining_syllables -= number_of_syllables  # reduce number of syllables remaining for line\n",
    "        extra_syllables = number_of_syllables + remaining_syllables  # extra syllables in word\n",
    "        syllables_to_use = word.split(\"-\")[:extra_syllables]  # extract allowed number of syllables\n",
    "        syllables_to_use = \"\".join(syllable for syllable in syllables_to_use)  # put syllables together\n",
    "        syllables_to_put_back = word.split(\"-\")[extra_syllables:]  # extract disallowed number of syllables\n",
    "        syllables_to_put_back = \"-\".join(syllable for syllable in syllables_to_put_back)  # connect extra syllables\n",
    "        if syllables_to_put_back:\n",
    "            sentence.insert(0, syllables_to_put_back)  # put extra syllables back in front of sentence\n",
    "        line.append(syllables_to_use)  # add allowed syllables to line\n",
    "    # end of line\n",
    "    list_to_string = \" \".join(word for word in line)  # create sent\n",
    "    remove_dashes = list_to_string#.replace(\"-\", \"\")\n",
    "    return sentence, remove_dashes\n",
    "\n",
    "\n",
    "def extract_haiku(message):\n",
    "    haiku = None\n",
    "    syllable_sentence = []\n",
    "    for word in message.split():\n",
    "        syllable_sentence.append(py_phen.inserted(word))\n",
    "    sentence = \" \".join(syllable for syllable in syllable_sentence)  # make list of syllable words into sentence\n",
    "    no_dashes = sentence.replace(\"-\", \" \")  # replace dashes as spaces\n",
    "    syllable_list = no_dashes.split()\n",
    "    count = len(no_dashes.split())  # count number of syllables\n",
    "    if count >= 17:\n",
    "        sentence, first_line = extract_line(syllable_sentence, 5)        \n",
    "        sentence, second_line = extract_line(sentence, 7)\n",
    "        sentence, third_line = extract_line(sentence, 5)\n",
    "        haiku = f\"{first_line}\\n{second_line}\\n{third_line}\"\n",
    "    return haiku\n",
    "\n",
    "\n",
    "def display_shortest_commits():\n",
    "    data = get_commit()\n",
    "    commits = sorted(data, key=lambda commit: len(commit[\"message\"]))\n",
    "\n",
    "    table = [(\"Author\", \"Commit message\", \"Length (chars)\")]\n",
    "    for commit in commits[:5]:\n",
    "        table.append([commit['author'], commit['message'], len(commit['message'])])\n",
    "\n",
    "    display(HTML(\"<h1>Shortest commit messages</h1>\"))\n",
    "    display(HTML(tabulate.tabulate(table, tablefmt='html')))\n",
    "\n",
    "\n",
    "def display_haikus():\n",
    "    haikus = []\n",
    "    for commit in get_commit():\n",
    "        result = extract_haiku(commit[\"message\"])\n",
    "        if result:\n",
    "            poem = {\n",
    "                \"author\": commit[\"author\"],\n",
    "                \"haiku\": result\n",
    "            }\n",
    "            haikus.append(poem)\n",
    "\n",
    "\n",
    "    html = \"<hr><br><h1>Commit Haikus</h1></br>\"\n",
    "    for haiku in haikus[30:35]:\n",
    "        html += f\"<b><center><u>{str(haiku['author']).lower()}</u></center></b>\"\n",
    "        html += f\"<p><center style='white-space: pre-line'>{haiku['haiku']}<br>*</center></p>\"\n",
    "          \n",
    "    display(HTML(html))\n",
    "    \n",
    "\n",
    "display_shortest_commits()\n",
    "display_haikus()"
   ]
  },
  {
   "cell_type": "code",
   "execution_count": null,
   "metadata": {},
   "outputs": [],
   "source": []
  }
 ],
 "metadata": {
  "kernelspec": {
   "display_name": "Python 3",
   "language": "python",
   "name": "python3"
  },
  "language_info": {
   "codemirror_mode": {
    "name": "ipython",
    "version": 3
   },
   "file_extension": ".py",
   "mimetype": "text/x-python",
   "name": "python",
   "nbconvert_exporter": "python",
   "pygments_lexer": "ipython3",
   "version": "3.6.5"
  }
 },
 "nbformat": 4,
 "nbformat_minor": 2
}
