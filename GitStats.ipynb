{
 "cells": [
  {
   "cell_type": "code",
   "execution_count": 9,
   "metadata": {},
   "outputs": [
    {
     "name": "stdout",
     "output_type": "stream",
     "text": [
      "Collecting gitpython (from -r requirements.txt (line 1))\n",
      "  Using cached https://files.pythonhosted.org/packages/fe/e5/fafe827507644c32d6dc553a1c435cdf882e0c28918a5bab29f7fbebfb70/GitPython-2.1.11-py2.py3-none-any.whl\n",
      "Collecting gitdb2>=2.0.0 (from gitpython->-r requirements.txt (line 1))\n",
      "  Using cached https://files.pythonhosted.org/packages/da/30/a407568aa8d8f25db817cf50121a958722f3fc5f87e3a6fba1f40c0633e3/gitdb2-2.0.5-py2.py3-none-any.whl\n",
      "Collecting smmap2>=2.0.0 (from gitdb2>=2.0.0->gitpython->-r requirements.txt (line 1))\n",
      "  Using cached https://files.pythonhosted.org/packages/55/d2/866d45e3a121ee15a1dc013824d58072fd5c7799c9c34d01378eb262ca8f/smmap2-2.0.5-py2.py3-none-any.whl\n",
      "Installing collected packages: smmap2, gitdb2, gitpython\n",
      "Successfully installed gitdb2-2.0.5 gitpython-2.1.11 smmap2-2.0.5\n"
     ]
    }
   ],
   "source": [
    "import sys\n",
    "!{sys.executable} -m pip install -r requirements.txt"
   ]
  },
  {
   "cell_type": "code",
   "execution_count": 23,
   "metadata": {},
   "outputs": [
    {
     "name": "stdout",
     "output_type": "stream",
     "text": [
      "['Index', 'NULL_BIN_SHA', 'NULL_HEX_SHA', 'TYPES', '__class__', '__delattr__', '__dir__', '__doc__', '__eq__', '__format__', '__ge__', '__getattr__', '__getattribute__', '__gt__', '__hash__', '__init__', '__init_subclass__', '__le__', '__lt__', '__module__', '__ne__', '__new__', '__reduce__', '__reduce_ex__', '__repr__', '__setattr__', '__sizeof__', '__slots__', '__str__', '__subclasshook__', '_deserialize', '_get_intermediate_items', '_id_attribute_', '_iter_from_process_or_stream', '_process_diff_args', '_serialize', '_set_cache_', 'author', 'author_tz_offset', 'authored_date', 'authored_datetime', 'binsha', 'committed_date', 'committed_datetime', 'committer', 'committer_tz_offset', 'conf_encoding', 'count', 'create_from_tree', 'data_stream', 'default_encoding', 'diff', 'encoding', 'env_author_date', 'env_committer_date', 'gpgsig', 'hexsha', 'iter_items', 'iter_parents', 'list_items', 'list_traverse', 'message', 'name_rev', 'new', 'new_from_sha', 'parents', 'repo', 'size', 'stats', 'stream_data', 'summary', 'traverse', 'tree', 'type']\n",
      "[<git.Actor \"Daniel Brownridge <daniel@yobota.xyz>\">, <git.Actor \"Archana <PhoeniXkrypT@users.noreply.github.com>\">, <git.Actor \"Cormac Murphy <cormac@yobota.uk>\">, <git.Actor \"Lucas Rijllart <lucas@yobota.xyz>\">, <git.Actor \"Archana <archanabs15@gmail.com>\">, <git.Actor \"Archana <archana@yobota.xyz>\">]\n",
      "['IN-1404 IN-1409 IN-1410 new stub for success journey (#56)\\n\\n* IN-1404 new stub for success journey\\r\\n\\r\\n* IN-1409 new bankaccount verification success journey stub (#57)\\r\\n\\r\\n* IN-1409 new bankaccount verification success journey stub\\r\\n\\r\\n* IN-1410 new credit search stub for success journey (#58)\\r\\n', 'IN-1265 address/discover stubs (#54)\\n\\n* IN-1265 split stubs and client stubservers\\r\\n\\r\\n* IN-1265 fixed stubs folder\\r\\n\\r\\n* IN-1265 removed comment\\r\\n', 'IN-1400 Adding new stub for credit search. (#55)\\n\\n', 'IN-1236 RM tests PKG-INFO. (#53)\\n\\n', 'IN-1236 Removing insights package. (#52)\\n\\n* IN-1236 Removing insights package.\\r\\n\\r\\n* IN-1236 python-dateutil.\\r\\n', 'IN-1178 Removing interconnect package. (#51)\\n\\n', 'IN-1119 bankaccount verification & credit search stubs (#50)\\n\\n* IN-1119 consumerservice stubs and split clients\\r\\n\\r\\n* Update client.py\\r\\n\\r\\n* Update client.py\\r\\n\\r\\n* IN-1119 renamed directories to lowercase\\r\\n\\r\\n* IN-1119 updated comments on stub servers\\r\\n\\r\\n* IN-1119 fixed imports and reordered requirements\\r\\n', 'IN-1121 reverted stub p1 and added default error (#49)\\n\\n* IN-1121 reverted stub p1 and added default error\\r\\n\\r\\n* IN-1121 fixed tests\\r\\n', 'IN-1121 base case for proofing client', 'IN-1150 separation of clients to split stub files into services (#48)\\n\\n* IN-1150 split clients into folders for stub files\\r\\n\\r\\n* IN-1150 removed print from test\\r\\n', 'IN-1121 updated stub wsdl filename\\n', 'IN-1121 Adding stubs and refactoring test to use them. (#41)\\n\\n* IN-1121 Addfing stubs and refactoring test to use them.\\r\\n\\r\\n* IN-1121 Adding input matching constraint.\\r\\n\\r\\n* IN-1121 Making transaction integer value.\\r\\n\\r\\n* IN-1121 re-evaluating paths.\\r\\n\\r\\n* IN-1121 Changing variable name.\\r\\n\\r\\n* IN-1121 Updating docstring.\\r\\n\\r\\n* IN-1121 pylinting.\\r\\n\\r\\n* IN-1121 pylint.\\r\\n\\r\\n* IN-1121 Updating tests.\\r\\n', 'IN-1214 Current balance should be non-negative.\\n', 'IN-1019 Setting status code of 1 when loan is underpaid.\\n', 'IN-1221 Handling null values of loan_balance_outstanding.\\n', \"IN-1194 Address Match service_endpoint update (#45)\\n\\n* IN-1194 updated client for service_account & tests\\r\\n\\r\\n* IN-1194 incorporated id's into test params\\r\\n\\r\\n* IN-1194 cleared up client WSDL handling\\r\\n\", 'IN-1093 stubbing of address match (#37)\\n\\n* IN-1093 added basic stub_server.py\\r\\n\\r\\n* IN-1093 client uses stubbing & new wsdl\\r\\n\\r\\n* IN-1093 added stub xml & json files\\r\\n\\r\\n* IN-1093 renamed .xml stubs to request/response\\r\\n\\r\\n* IN-1093 added stubs to setup.py and MANIFEST\\r\\n\\r\\n* IN-1093 renamed rest of stub files\\r\\n\\r\\n* IN-1093 stub server functionality & tests\\r\\n\\r\\n* IN-1093 added error .xml from service/stubs/stub\\r\\n\\r\\n* IN-1093 added service_endpoint to client\\r\\n\\r\\n* IN-1093 added yobota-service>=1.6.0\\r\\n\\r\\n* IN-1093 fixed coverage in setup.cfg\\r\\n\\r\\n* IN-1093 wsdl uat rename & removed prod stub wsdl\\r\\n\\r\\n* IN-1093 custom equifax error for stub inputs\\r\\n\\r\\n* IN-1093 new AM stubs interaction: yobota\\r\\n\\r\\n* IN-1093 s5_ma_yobota address order\\r\\n\\r\\n* IN-1093 pylinting\\r\\n\\r\\n* IN-1093 removed stub s4 and error not in conftest\\r\\n\\r\\n* IN-1093 fixed import in AM client\\r\\n\\r\\n* IN-1093 add addressservice.stub_server to packages\\r\\n\\r\\n* IN-1093 service>=1.7 and pylinting\\r\\n\\r\\n* IN-1093 renamed xml requests to request_xml\\r\\n\\r\\n* IN-1093 ignoring .eggs in setup and pep8 fix\\r\\n\\r\\n* IN-1093 removed .json stub files\\r\\n\\r\\n* IN-1093 adapted to new service req IN-1131\\r\\n\\r\\n* IN-1093 renamed to AddressMatchRequestHandler\\r\\n\\r\\n* IN-1093 move stubs to stubs/equifax/addressservice\\r\\n\\r\\n* IN-1093 updated service requirement\\r\\n\\r\\n* IN-1093 renamed test request handler import\\r\\n\\r\\n* IN-1093 fixes to conform to new service stubs\\r\\n\\r\\n* IN-1093 updated service req 1.7.3\\r\\n\\r\\n* IN-1093 simplified stub_handler\\r\\n\\r\\n* IN-1093 change var name to self.data name\\r\\n\\r\\n* IN-1093 importing SOAPStubHandler\\r\\n\\r\\n* IN-1093 renamed to AddressHandler\\r\\n\\r\\n* IN-1093 updated service req to 1.7.5\\r\\n\\r\\n* IN-1093 fixed inputs in strings\\r\\n\\r\\n* IN-1093 updated addressservice with stubserver 1.8\\r\\n\\r\\n* IN-1093 added back stub server test\\r\\n\\r\\n* IN-1093 updated docstring of stubserver\\r\\n\\r\\n* IN-1093 stubserver pylinting\\r\\n\\r\\n* IN-1093 cleaned up stubserver test\\r\\n\\r\\n* IN-1093 service>=1.8.1\\r\\n', 'IN-1082 add duplicate filter\\n', 'IN-1073 fixed settled loan issue\\n', 'IN-1073 add failing unit test for get_end_date\\n', 'IN-1073 failing unit test for get record\\n', 'IN-1073 ammend status for settled loan\\n', 'IN-1073 parametrized test get record\\n', 'IN-1073 add failing test for missing end date\\n', 'IN-1072 add CANCELLED to excluded statuses\\n', 'IN-1072 failing unit tests for cancellled status\\n', 'IN-1072 failing FT for cancelled status\\n', 'IN-1071 switch to report end date for batch month\\n', 'IN-1071 correct ft to expect report end rather than start date\\n', 'IN-1063 IN-1058 IN-1059 default date and blance conditional\\n', 'IN-1063 test reveals incorrectly populated default date\\n', 'IN-1063 fix blank lines\\n', 'IN-1063 inline lambda\\n', 'IN-1064 pep8\\n', 'IN-1063 IN-1057 interact used get_end_date\\n', 'IN-1063 IN-1057 end_date helper\\n', 'IN-1063 remove dead code\\n', 'IN-1063 new interact\\n', 'IN-1063 simplified get record\\n', 'IN-1063 simplify get_footer\\n', 'IN-1063 simplify header\\n', 'IN-1063 simplified status code generation\\n', 'IN-1063 simplified name helper\\n', 'IN-1063 simplify helper funcitions\\n', 'IN-1063 IN-1060 fixed sign issue\\n', 'IN-1063 standardize foreign and native, consolidate unit tests\\n', 'IN-1049 filter_loans now can deal with None loans\\n', 'IN-1049 added client file_formats & None testcase\\n', 'IN-1049 filter client native_format returns {}\\n', 'IN-1049 fixed typo in filter_extract_client & test\\n', 'IN-1049 pylinting\\n', 'IN-1049 working filter_extract_client and tests\\n', 'IN-1049 implemented methods and basic tests\\n', 'IN-1049 InsightsFilterExtractClient test and class\\n', 'IN-966 changing key value.\\n', 'IN-966 PKG-INFO.\\n', 'IN-966 adding days_in_loan_cooling to foreign step.\\n', 'IN-966 excluding loans in cooling off period.\\n', 'IN-966 Initial work on excluding loans.\\n', 'IN-965 pep8\\n', 'IN-965 revert to set_text\\n', 'IN-965 codestandard\\n', 'IN-965 clarified name formatting\\n', 'IN-965 avoid private method\\n', 'IN-965 more specific pylintrc\\n', 'IN-965 add pylintrc whitelisting lxml\\n', 'IN-965 code standards - consumerservice\\n', 'IN-965 long lines in tests\\n', 'IN-965 properly exclude .ropeproject\\n', 'IN-965 clarify _native_address\\n', 'IN-965 clarify get_batch_month\\n', 'IN-965 tidy interconnect client\\n', 'IN-965 clarify verification_score data unpacking\\n', 'IN-965 clarify foreign address logic\\n', 'IN-965 Parameterizing tests.\\n', 'IN-965 Updating docstring.\\n', 'IN-965 Hardcoding codes in servicelayer.\\n', 'IN-965 refactor native step for ConvertInsightsDataClient.\\n', 'IN-965 Adding finer controls on status and flags selection.\\n', \"Merge tag '1.5.2' into master\\n\\nVersion 1.5.2\\n\\n* YONO-490\\n\", 'IN-966 Excluding loans in cooling period. (#26)\\n\\n* IN-966 Excluding loans in cooling period and before a specified date from Insights file\\r\\n\\r\\n* IN-966 Adding docstrings\\r\\n\\r\\n* IN-966 Updated return statements without ifelse\\r\\n\\r\\n* IN-966 Updated method to find insights record count\\r\\n\\r\\n* IN-966 Providing cooling period along with data from interaction\\r\\n\\r\\n* IN-966 Updated insights test data\\r\\n\\r\\n* IN-966 Updated PKG-INFO\\r\\n\\r\\n* IN-966 refactor of client.\\r\\n\\r\\n* IN-966 Adding tests.\\r\\n\\r\\n* IN-966 Adding more tests.\\r\\n\\r\\n* IN-966 More tests.\\r\\n\\r\\n* IN-966 Adding tests.\\r\\n\\r\\n* IN-966 test_get_insights_record.\\r\\n\\r\\n* IN-966 Updating test_get_insights_record.\\r\\n\\r\\n* IN-966 test_convertinsightsdataclient_interact.\\r\\n\\r\\n* IN-966 Adding conftest.py to integrated tests.\\r\\n\\r\\n* IN-966 calculating the loan cooling off period.\\r\\n\\r\\n* IN-966 Adding is_loan_cooling_period function.\\r\\n\\r\\n* IN-966 Removing redundant code.\\r\\n\\r\\n* IN-966 Restructure how we calculate when to include loans.\\r\\n\\r\\n* IN-965 Adding status when loan is CLOSED.\\r\\n', 'YONO-960 Updating on consumerservice.\\n', 'YONO-490 Using local import of xml.xsd\\n', 'IN-898 Parse dictionary to Insights fixed-width format (#21)\\n\\n* IN-883 Insights configuration format for json/python dictionary to fixed-width\\r\\n\\r\\n* IN-898 Parse dictionary to Insights fixed-width format\\r\\n\\r\\n* IN-898 Adding tests for insights parser\\r\\n\\r\\n* IN-898 Updated Jenkinsfile and versions of yobota-service and testandstore\\r\\n\\r\\n* IN-898 Updated docstrings\\r\\n\\r\\n* IN-898 Modified fields/field_names based on db extract\\r\\n\\r\\n* IN- 898 Updated field names and types based on db data\\r\\n\\r\\n* IN-898 Added function for setting current_status of record\\r\\n\\r\\n- Updated field_types and type conversions of data from db\\r\\n\\r\\n* IN-898 Splitting functions and adding tests\\r\\n\\r\\n* IN-898 Modified the client functions and added tests\\r\\n\\r\\n* IN-898 Modified default of header field filler\\r\\n', 'IN-942 Renaming output so it can be consumed in interaction. (#25)\\n\\n', 'IN-935 Relax ptcabs as a required field in interconnect. (#24)\\n\\n* IN-935 Relax ptcabs as a required field in interconnect.\\r\\n\\r\\n* IN-935 Adding complete address tests.\\r\\n\\r\\n* IN-935 Updating after CR.\\r\\n\\r\\n* IN-935 Adding comment.\\r\\n', 'IN-923 Handling a SOAP fault response. (#23)\\n\\n* IN-923 Handling a SOAP fault response.\\r\\n\\r\\n* IN-923 moving error handling to native_format function.\\r\\n\\r\\n* IN-922 moving error handling to native_format function.\\r\\n\\r\\n* IN-923 Updating tests after CR.\\r\\n', 'IN-922 Handling a SOAP Fault response. (#22)\\n\\n* IN-922 Handling a SOAP Fault response.\\r\\n\\r\\n* IN-922 renaming fields.\\r\\n\\r\\n* IN-922 refactor try except.\\r\\n\\r\\n* IN-922 renaming fixture\\r\\n\\r\\n* IN-922 fixing tests.\\r\\n\\r\\n* IN-922 refactoring for single error use.\\r\\n\\r\\n* IN-922 reformatting.\\r\\n', 'IN-883 Configurations required for Insights file and functions to compose the fields (#20)\\n\\n* IN-883 Insights configuration format for json/python dictionary to fixed-width\\r\\n\\r\\n* IN-883 Functions to shorten name to fit characters limit and convert datetime\\r\\n\\r\\n- Apply rules to shorten name to fit 42 characters limit.\\r\\n- Convert datetime to YYYYMMDD or YYYYMM format\\r\\n\\r\\n* IN-883 Update valid titles for customer name\\r\\n\\r\\n* IN-883 Fixed multi-line f-strings\\r\\n\\r\\n* IN-883 Fixed Pylint warnings for insights\\r\\n\\r\\n* IN-883 Removed exception and shortens surname\\r\\n\\r\\n* IN-883 Added missing docstrings, changed suffix and title default value when applying rules\\r\\n\\r\\n* IN-883 Changed data type of credit limit in config\\r\\n\\r\\n* IN-883 Updated VALID_TITLES and removed monkeypatch on VALID_TITLES\\r\\n\\r\\n* IN-883 Modified defining config (ADDRESSCONFIG) in nested config\\r\\n\\r\\n* IN-883 Removed FixedWidth==1.0 in setup.py\\r\\n\\r\\n* IN-883 Update function for conversion of date as a string to YYYYMMDD format\\r\\n', ' IN-693 Upgrading service to use new SOAPClient (#18)\\n\\n* IN-693 Upgrading addressservice to use new SOAPClient.\\r\\n\\r\\n* IN-693 Upgrading consumerservice to use new SOAPClient.\\r\\n\\r\\n* IN-693 Upgrading identityfraudservice to use new SOAPClient.\\r\\n\\r\\n* IN-693 Adding encryption for AWS.\\r\\n', \"IN-679 Renaming 'attributes' field in interaction-bankaccount (#17)\\n\\n\", \"IN-678 (#16)\\n\\n* IN-678 Renaming field 'addresses' in interaction-address\\r\\n\\r\\n* IN-678 Updating tests\\r\\n\", 'IN-390 Renaming fields in interaction-credit (#15)\\n\\n', 'IN-588 Adding service-equifax to yopy. (#14)\\n\\n', 'IN-573 redaction of identify verification answers.\\n', 'IN-595 making service dependency minimum rather than exact\\n', 'IN-573 redaction of identify verification answers (#13)\\n\\n', 'IN-542 minor fixes for URL and file format (#12)\\n\\n* IN-533 pep8 ignoring ropeproject directories\\r\\n\\r\\n* IN-533 pep8 compliance\\r\\n\\r\\n* IN-533 pep8 compliance\\r\\n\\r\\n* IN-533 pylint compliance\\r\\n\\r\\n* IN-533 adding placeholder interconnect client test\\r\\n\\r\\n* IN-542 refactor to implement service client\\r\\n\\r\\n* IN-542 version 0.6.0\\r\\n\\r\\n* IN-542 fixing test imports\\r\\n\\r\\n* IN-542 changing interconnect URL value\\r\\n\\r\\n* IN-542 setting file_formats in interconnect client\\r\\n', 'IN-542 interconnect using standard client structure (#11)\\n\\n* IN-533 pep8 ignoring ropeproject directories\\r\\n\\r\\n* IN-533 pep8 compliance\\r\\n\\r\\n* IN-533 pep8 compliance\\r\\n\\r\\n* IN-533 pylint compliance\\r\\n\\r\\n* IN-533 adding placeholder interconnect client test\\r\\n\\r\\n* IN-542 refactor to implement service client\\r\\n\\r\\n* IN-542 version 0.6.0\\r\\n\\r\\n* IN-542 fixing test imports\\r\\n', 'IN-546 version 0.5.6\\n', 'IN-546 Adding production wsdl files. (#9)\\n\\n', 'IN-544 local WSDL files and fixed xml_declaration (#10)\\n\\n* IN-554 adding WSDL files\\r\\n\\r\\n* IN-554 adding test for verification endpoint\\r\\n\\r\\n* IN-554 adapting using correct xml declaration\\r\\n\\r\\n* IN-554 version 0.5.4\\r\\n\\r\\n* IN-554 test fixes for xml declaration\\r\\n', 'IN-545 Removing alteration of RAW request/response. (#8)\\n\\n', 'IN-523 Refactor of service layer to use new SOAP client. (#7)\\n\\n', 'IN-351 Adding init files to tests. to fix build error. All Soap services use Soap Client\\n', 'IN-314 Consumerservice now uses SoapClient. (#6)\\n\\n', 'IN-351 Removal of the response object in prep for Soap Client.\\n', 'IN-396 Addressservice now uses SoapClient.\\n', 'IN-470 Adding interconnect and dependancies to the repo.\\n', 'IN-461 Adding identityfraudservice.\\n', 'IN-454 equifax-consumerservice is copied from intergrations.\\n', 'IN-453 Removing print statement.\\n', \"IN-450 Refactoring the way the wsdl's are determined.\\n\", 'IN-450 Adding equifax addressservice (#1)\\n\\n', 'IN-450 Initial commit to service-equifax.\\n']\n",
      "['__class__', '__delattr__', '__dir__', '__doc__', '__eq__', '__format__', '__ge__', '__getattribute__', '__gt__', '__hash__', '__init__', '__init_subclass__', '__le__', '__lt__', '__module__', '__ne__', '__new__', '__reduce__', '__reduce_ex__', '__repr__', '__setattr__', '__sizeof__', '__slots__', '__str__', '__subclasshook__', '_from_string', '_main_actor', 'author', 'committer', 'conf_email', 'conf_name', 'email', 'env_author_email', 'env_author_name', 'env_committer_email', 'env_committer_name', 'name', 'name_email_regex', 'name_only_regex']\n"
     ]
    }
   ],
   "source": [
    "from git import Repo\n",
    "\n",
    "repo = Repo(\"~/workspace/service-equifax\")\n",
    "\n",
    "commit_list = repo.iter_commits(\"master\")\n",
    "\n",
    "print(dir(next(commit_list)))\n",
    "\n",
    "authors = []\n",
    "messages = []\n",
    "for i in commit_list:\n",
    "#     print(dir(i))\n",
    "    authors.append(i.author)\n",
    "    messages.append(i.message)\n",
    "    \n",
    "    \n",
    "authors = list(set(authors))\n",
    "print(authors)\n",
    "\n",
    "print(messages)\n",
    "\n",
    "print(dir(authors[0]))\n",
    "    "
   ]
  },
  {
   "cell_type": "code",
   "execution_count": null,
   "metadata": {},
   "outputs": [],
   "source": []
  },
  {
   "cell_type": "code",
   "execution_count": null,
   "metadata": {},
   "outputs": [],
   "source": []
  }
 ],
 "metadata": {
  "kernelspec": {
   "display_name": "Python 3",
   "language": "python",
   "name": "python3"
  },
  "language_info": {
   "codemirror_mode": {
    "name": "ipython",
    "version": 3
   },
   "file_extension": ".py",
   "mimetype": "text/x-python",
   "name": "python",
   "nbconvert_exporter": "python",
   "pygments_lexer": "ipython3",
   "version": "3.6.5"
  }
 },
 "nbformat": 4,
 "nbformat_minor": 2
}
