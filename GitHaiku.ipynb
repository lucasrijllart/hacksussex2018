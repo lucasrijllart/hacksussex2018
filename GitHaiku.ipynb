{
 "cells": [
  {
   "cell_type": "code",
   "execution_count": 93,
   "metadata": {},
   "outputs": [
    {
     "name": "stdout",
     "output_type": "stream",
     "text": [
      "Done!\n"
     ]
    }
   ],
   "source": [
    "import sys\n",
    "!{sys.executable} -m pip install -r requirements.txt -q\n",
    "print(\"Done!\")"
   ]
  },
  {
   "cell_type": "code",
   "execution_count": 78,
   "metadata": {},
   "outputs": [],
   "source": [
    "from git import Repo\n",
    "\n",
    "repo = Repo(\"~/hackathon/sleep-wake\")\n",
    "\n",
    "commit_list = repo.iter_commits(\"master\")"
   ]
  },
  {
   "cell_type": "code",
   "execution_count": 220,
   "metadata": {
    "scrolled": true
   },
   "outputs": [
    {
     "data": {
      "text/html": [
       "<table>\n",
       "<tbody>\n",
       "<tr><td>Author        </td><td>Commit message  </td><td>Length</td></tr>\n",
       "<tr><td>Lucas Rijllart</td><td>Added images    </td><td>13    </td></tr>\n",
       "<tr><td>Lucas Rijllart</td><td>Initial commit  </td><td>15    </td></tr>\n",
       "<tr><td>Lucas Rijllart</td><td>Update README.md</td><td>16    </td></tr>\n",
       "<tr><td>Lucas Rijllart</td><td>Create README.md</td><td>16    </td></tr>\n",
       "<tr><td>efkag         </td><td>Fitness function</td><td>17    </td></tr>\n",
       "</tbody>\n",
       "</table>"
      ],
      "text/plain": [
       "<IPython.core.display.HTML object>"
      ]
     },
     "metadata": {},
     "output_type": "display_data"
    }
   ],
   "source": [
    "from IPython.display import HTML, display\n",
    "import tabulate\n",
    "\n",
    "\n",
    "from git import Repo\n",
    "\n",
    "repo = Repo(\"~/hackathon/sleep-wake\")\n",
    "\n",
    "commit_list = repo.iter_commits(\"master\")\n",
    "\n",
    "# print(dir(next(commit_list)))\n",
    "# print(next(commit_list).committer)\n",
    "# print(next(commit_list))\n",
    "\n",
    "data = []\n",
    "for commit in commit_list:\n",
    "    commit_info = {\n",
    "        \"author\": commit.author,\n",
    "        \"message\": commit.message\n",
    "    }\n",
    "    data.append(commit_info)\n",
    "    \n",
    "\n",
    "\n",
    "commits = sorted(data, key=lambda commit: len(commit[\"message\"]))\n",
    "\n",
    "table = [(\"Author\", \"Commit message\", \"Length\")]\n",
    "for commit in commits[:5]:\n",
    "    table.append([commit['author'], commit['message'], len(commit['message'])])\n",
    "\n",
    "\n",
    "display(HTML(tabulate.tabulate(table, tablefmt='html')))"
   ]
  },
  {
   "cell_type": "code",
   "execution_count": 250,
   "metadata": {
    "scrolled": false
   },
   "outputs": [
    {
     "data": {
      "text/html": [
       "<h1>Commit Haikus</h1></br><b><center>lucasrijllart</center></b><p><center style='white-space: pre-line'>New big network that\n",
       "works well, moved all other to\n",
       "old New network: runs<br>*</center></p><b><center>Lucas Rijllart</center></b><p><center style='white-space: pre-line'>Added vehicle im\n",
       "age and renamed attacker\n",
       "Renamed simple1.png<br>*</center></p><b><center>lucasrijllart</center></b><p><center style='white-space: pre-line'>Added new method to pre\n",
       "process data * Cycle\n",
       "pre_process_by_vehicle() re<br>*</center></p><b><center>lucasrijllart</center></b><p><center style='white-space: pre-line'>Vehicle is now\n",
       "passed the random seed from the\n",
       "data collection<br>*</center></p><b><center>efkag</center></b><p><center style='white-space: pre-line'>predict_ahead()\n",
       "method that run the predictions\n",
       "from the NARX class *NARX<br>*</center></p>"
      ],
      "text/plain": [
       "<IPython.core.display.HTML object>"
      ]
     },
     "metadata": {},
     "output_type": "display_data"
    }
   ],
   "source": [
    "import pyphen\n",
    "\n",
    "py_phen = pyphen.Pyphen(lang=\"en\")\n",
    "\n",
    "def extract_line(sentence, remaining_syllables):\n",
    "    line = []\n",
    "    while remaining_syllables > 0:\n",
    "        word = sentence.pop(0)  # get first word\n",
    "        number_of_syllables = len(word.split(\"-\"))  # check number of syllables\n",
    "        remaining_syllables -= number_of_syllables  # reduce number of syllables remaining for line\n",
    "        extra_syllables = number_of_syllables + remaining_syllables  # extra syllables in word\n",
    "        syllables_to_use = word.split(\"-\")[:extra_syllables]  # extract allowed number of syllables\n",
    "        syllables_to_use = \"\".join(syllable for syllable in syllables_to_use)  # put syllables together\n",
    "        syllables_to_put_back = word.split(\"-\")[extra_syllables:]  # extract disallowed number of syllables\n",
    "        syllables_to_put_back = \"-\".join(syllable for syllable in syllables_to_put_back)  # connect extra syllables\n",
    "        if syllables_to_put_back:\n",
    "            sentence.insert(0, syllables_to_put_back)  # put extra syllables back in front of sentence\n",
    "        line.append(syllables_to_use)  # add allowed syllables to line\n",
    "    # end of line\n",
    "    list_to_string = \" \".join(word for word in line)  # create sent\n",
    "    remove_dashes = list_to_string.replace(\"-\", \"\")\n",
    "    return sentence, remove_dashes\n",
    "\n",
    "def extract_haiku(message):\n",
    "    haiku = None\n",
    "    syllable_sentence = []\n",
    "    for word in message.split():\n",
    "        syllable_sentence.append(py_phen.inserted(word))\n",
    "    sentence = \" \".join(syllable for syllable in syllable_sentence)  # make list of syllable words into sentence\n",
    "    no_dashes = sentence.replace(\"-\", \" \")  # replace dashes as spaces\n",
    "    syllable_list = no_dashes.split()\n",
    "    count = len(no_dashes.split())  # count number of syllables\n",
    "    if count >= 17:\n",
    "        sentence, first_line = extract_line(syllable_sentence, 5)        \n",
    "        sentence, second_line = extract_line(sentence, 7)\n",
    "        sentence, third_line = extract_line(sentence, 5)\n",
    "        haiku = f\"{first_line}\\n{second_line}\\n{third_line}\"\n",
    "    return haiku\n",
    "\n",
    "haikus = []\n",
    "for commit in commits:\n",
    "    result = extract_haiku(commit[\"message\"])\n",
    "    if result:\n",
    "        poem = {\n",
    "            \"author\": commit[\"author\"],\n",
    "            \"haiku\": result\n",
    "        }\n",
    "        haikus.append(poem)\n",
    "\n",
    "\n",
    "html = \"<h1>Commit Haikus</h1></br>\"\n",
    "for haiku in haikus[30:35]:\n",
    "    html += f\"<b><center>{haiku['author']}</center></b>\"\n",
    "    html += f\"<p><center style='white-space: pre-line'>{haiku['haiku']}<br>*</center></p>\"\n",
    "          \n",
    "display(HTML(html))"
   ]
  }
 ],
 "metadata": {
  "kernelspec": {
   "display_name": "Python 3",
   "language": "python",
   "name": "python3"
  },
  "language_info": {
   "codemirror_mode": {
    "name": "ipython",
    "version": 3
   },
   "file_extension": ".py",
   "mimetype": "text/x-python",
   "name": "python",
   "nbconvert_exporter": "python",
   "pygments_lexer": "ipython3",
   "version": "3.6.5"
  }
 },
 "nbformat": 4,
 "nbformat_minor": 2
}
